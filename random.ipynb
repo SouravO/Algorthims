{
 "cells": [
  {
   "cell_type": "code",
   "execution_count": 3,
   "metadata": {},
   "outputs": [
    {
     "name": "stdout",
     "output_type": "stream",
     "text": [
      "Random Forest Prediction: No\n"
     ]
    },
    {
     "name": "stderr",
     "output_type": "stream",
     "text": [
      "c:\\Users\\osour\\AppData\\Local\\Programs\\Python\\Python313\\Lib\\site-packages\\sklearn\\utils\\validation.py:2739: UserWarning: X does not have valid feature names, but RandomForestClassifier was fitted with feature names\n",
      "  warnings.warn(\n"
     ]
    }
   ],
   "source": [
    "import pandas as pd\n",
    "from sklearn.ensemble import RandomForestClassifier\n",
    "from sklearn.preprocessing import LabelEncoder\n",
    "from sklearn.model_selection import train_test_split\n",
    "import matplotlib.pyplot as plt\n",
    "\n",
    "# Step 1: Create dataset\n",
    "data = {\n",
    "    'Age': ['<=30', '<=30', '31-40', '>40', '>40', '>40'],\n",
    "    'Income': ['High', 'Medium', 'Medium', 'Low', 'Medium', 'High'],\n",
    "    'Buy': ['No', 'No', 'Yes', 'Yes', 'Yes', 'No']\n",
    "}\n",
    "df = pd.DataFrame(data)\n",
    "\n",
    "# Step 2: Encode\n",
    "le_age = LabelEncoder()\n",
    "le_income = LabelEncoder()\n",
    "le_buy = LabelEncoder()\n",
    "df['Age'] = le_age.fit_transform(df['Age'])         # <=30=0, 31-40=1, >40=2\n",
    "df['Income'] = le_income.fit_transform(df['Income']) # High=0, Low=1, Medium=2\n",
    "df['Buy'] = le_buy.fit_transform(df['Buy'])         # No=0, Yes=1\n",
    "\n",
    "# Step 3: Features and Target\n",
    "X = df[['Age', 'Income']]\n",
    "y = df['Buy']\n",
    "\n",
    "# Step 4: Train Random Forest\n",
    "clf = RandomForestClassifier(n_estimators=5, random_state=42)\n",
    "clf.fit(X, y)\n",
    "\n",
    "# Step 5: Predict on new data\n",
    "new_data = [[1, 0]]  # Age='31-40', Income='High'\n",
    "prediction = clf.predict(new_data)\n",
    "result = le_buy.inverse_transform(prediction)\n",
    "print(\"Random Forest Prediction:\", result[0])\n"
   ]
  },
  {
   "cell_type": "code",
   "execution_count": 4,
   "metadata": {},
   "outputs": [
    {
     "name": "stdout",
     "output_type": "stream",
     "text": [
      "Age: 0.55\n",
      "Income: 0.45\n"
     ]
    }
   ],
   "source": [
    "import numpy as np\n",
    "\n",
    "# Print feature importance\n",
    "importances = clf.feature_importances_\n",
    "feature_names = ['Age', 'Income']\n",
    "\n",
    "for name, score in zip(feature_names, importances):\n",
    "    print(f\"{name}: {score:.2f}\")\n"
   ]
  },
  {
   "cell_type": "code",
   "execution_count": null,
   "metadata": {},
   "outputs": [
    {
     "data": {
      "image/png": "[encoded data removed]",
      "text/plain": [
       "<Figure size 640x480 with 1 Axes>"
      ]
     },
     "metadata": {},
     "output_type": "display_data"
    },
    {
     "ename": "",
     "evalue": "",
     "output_type": "error",
     "traceback": [
      "\u001b[1;31mThe Kernel crashed while executing code in the current cell or a previous cell. \n",
      "\u001b[1;31mPlease review the code in the cell(s) to identify a possible cause of the failure. \n",
      "\u001b[1;31mClick <a href='https://aka.ms/vscodeJupyterKernelCrash'>here</a> for more info. \n",
      "\u001b[1;31mView Jupyter <a href='command:jupyter.viewOutput'>log</a> for further details."
     ]
    }
   ],
   "source": [
    "import matplotlib.pyplot as plt\n",
    "\n",
    "plt.bar(feature_names, importances, color='skyblue')\n",
    "plt.title(\"Feature Importance in Random Forest\")\n",
    "plt.ylabel(\"Importance Score\")\n",
    "plt.show()\n"
   ]
  },
  {
   "cell_type": "code",
   "execution_count": null,
   "metadata": {},
   "outputs": [],
   "source": [
    "\n"
   ]
  }
 ],
 "metadata": {
  "kernelspec": {
   "display_name": "Python 3",
   "language": "python",
   "name": "python3"
  },
  "language_info": {
   "codemirror_mode": {
    "name": "ipython",
    "version": 3
   },
   "file_extension": ".py",
   "mimetype": "text/x-python",
   "name": "python",
   "nbconvert_exporter": "python",
   "pygments_lexer": "ipython3",
   "version": "3.13.2"
  }
 },
 "nbformat": 4,
 "nbformat_minor": 2
}
